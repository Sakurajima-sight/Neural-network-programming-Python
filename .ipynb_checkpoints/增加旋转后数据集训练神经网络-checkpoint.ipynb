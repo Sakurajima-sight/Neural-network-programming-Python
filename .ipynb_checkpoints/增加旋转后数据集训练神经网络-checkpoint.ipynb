{
 "cells": [
  {
   "cell_type": "code",
   "execution_count": 1,
   "id": "ff5c8f4d",
   "metadata": {
    "ExecuteTime": {
     "end_time": "2022-09-13T16:25:41.553599Z",
     "start_time": "2022-09-13T16:25:40.676580Z"
    }
   },
   "outputs": [],
   "source": [
    "import numpy\n",
    "# scipy.special for the sigmoid function expit()\n",
    "import scipy.special\n",
    "# ensure the plots are inside this notebook,not an external window\n",
    "import matplotlib.pyplot\n",
    "%matplotlib inline"
   ]
  },
  {
   "cell_type": "code",
   "execution_count": 2,
   "id": "34f7b3f2",
   "metadata": {
    "ExecuteTime": {
     "end_time": "2022-09-13T16:25:41.569589Z",
     "start_time": "2022-09-13T16:25:41.555582Z"
    }
   },
   "outputs": [],
   "source": [
    "# neural network class definition\n",
    "class neuralNetwork:\n",
    "    \n",
    "    # initialise the neural network    \n",
    "    def __init__(self,inputnodes,hiddennodes,outputnodes,learningrate):\n",
    "        # set number of nodes in each input,hidden,output layer         \n",
    "        self.inodes=inputnodes\n",
    "        self.hnodes=hiddennodes\n",
    "        self.onodes=outputnodes\n",
    "    \n",
    "        # link weight matrices,wih and who\n",
    "        # weight inside the arrays are w_i_j,where link is from node i to node j in the next layer\n",
    "        # w11 w21\n",
    "        # w12 w22 etc\n",
    "        # self.wih=(numpy.random.rand(self.hnodes,self.inodes)-0.5)\n",
    "        # self.who=(numpy.random.rand(self.onodes,self.hnodes)-0.5)\n",
    "        self.wih=numpy.random.normal(0.0,pow(self.hnodes,-0.5),(self.hnodes,self.inodes))\n",
    "        self.who=numpy.random.normal(0.0,pow(self.onodes,-0.5),(self.onodes,self.hnodes))\n",
    "        \n",
    "        # learning rate         \n",
    "        self.lr=learningrate\n",
    "        \n",
    "        # activation function is the sigmoid function\n",
    "        self.activation_function=lambda x:scipy.special.expit(x)\n",
    "        \n",
    "        pass\n",
    "        \n",
    "    # train the neural network\n",
    "    def train(self,input_list,targets_list):\n",
    "        # convert inputs list to 2d array\n",
    "        inputs=numpy.array(input_list,ndmin=2).T\n",
    "        targets=numpy.array(targets_list,ndmin=2).T\n",
    "        \n",
    "        # calculate signals into hidden layer\n",
    "        hidden_inputs=numpy.dot(self.wih,inputs)\n",
    "        # calculate the signals emerging from hidden layer\n",
    "        hidden_outputs=self.activation_function(hidden_inputs)\n",
    "        \n",
    "        # calculate signals into final output layer\n",
    "        final_inputs=numpy.dot(self.who,hidden_outputs)\n",
    "        # calculate the signals emerging from final output layer\n",
    "        final_outputs=self.activation_function(final_inputs)\n",
    "        # error is the (target-actual)\n",
    "        output_errors=targets-final_outputs\n",
    "        # hidden layer error is the output_errors,split by weights,recombined at hidden nodes\n",
    "        hidden_errors=numpy.dot(self.who.T,output_errors)\n",
    "        \n",
    "        # update the weights for the links between the hidden and output layers\n",
    "        self.who+=self.lr*numpy.dot((output_errors*final_outputs*(1.0-final_outputs)),numpy.transpose(hidden_outputs))\n",
    "        \n",
    "        # update the weights for the links between the hidden and output layers\n",
    "        self.wih+=self.lr*numpy.dot((hidden_errors*hidden_outputs*(1.0-hidden_outputs)),numpy.transpose(inputs))\n",
    "        pass\n",
    "    \n",
    "    # query the neural network\n",
    "    def query(self,input_list):\n",
    "        # convert inputs list to 2d array\n",
    "        inputs=numpy.array(input_list,ndmin=2).T\n",
    "        \n",
    "        # calculate signals into hidden layer\n",
    "        hidden_inputs=numpy.dot(self.wih,inputs)\n",
    "        # calculate the signals emerging from hidden layer\n",
    "        hidden_outputs=self.activation_function(hidden_inputs)\n",
    "        \n",
    "        # calculate signals into final output layer\n",
    "        final_inputs=numpy.dot(self.who,hidden_outputs)\n",
    "        # calculate the signals emerging from final output layer\n",
    "        final_outputs=self.activation_function(final_inputs)\n",
    "        \n",
    "        return final_outputs"
   ]
  },
  {
   "cell_type": "code",
   "execution_count": 3,
   "id": "67fcfb3b",
   "metadata": {
    "ExecuteTime": {
     "end_time": "2022-09-13T17:08:06.410407Z",
     "start_time": "2022-09-13T16:25:41.570603Z"
    }
   },
   "outputs": [],
   "source": [
    "# number of input,hidden and output nodes\n",
    "input_nodes=784\n",
    "hidden_nodes=200\n",
    "output_nodes=10\n",
    "\n",
    "# learning rate is 0.1\n",
    "learning_rate=0.01\n",
    "\n",
    "# create instance of neural network\n",
    "n=neuralNetwork(input_nodes,hidden_nodes,output_nodes,learning_rate)\n",
    "\n",
    "# load the mnist training data CSV file into a list\n",
    "training_data_file=open('mnist_dataset/mnist_train.csv','r')\n",
    "training_data_list=training_data_file.readlines()\n",
    "training_data_file.close()\n",
    "\n",
    "# train the neural network\n",
    "\n",
    "# epochs is the number of times the training data set is used for training\n",
    "epochs=10\n",
    "\n",
    "for e in range(epochs):\n",
    "    # go through all records in the training data set \n",
    "    for record in training_data_list:\n",
    "        # split the record by the ',' commas\n",
    "        all_values=record.split(',')\n",
    "        # scale and shift the inputs\n",
    "        inputs=(numpy.asfarray(all_values[1:])/255.0*0.99)+0.01\n",
    "        # create the target output values (all 0.01,expect the desired label which is 0.99)\n",
    "        targets=numpy.zeros(output_nodes)+0.01\n",
    "        # all_values[0] is the target label for this record\n",
    "        targets[int(all_values[0])]=0.99\n",
    "        n.train(inputs,targets)\n",
    "        ## create rotated variations\n",
    "        # rotated anticlockwise by x degrees\n",
    "        inputs_plusx_img=scipy.ndimage.rotate(inputs.reshape(28,28),10,cval=0.01,order=1,reshape=False)\n",
    "        n.train(inputs_plusx_img.reshape(784),targets)\n",
    "        # rotated clockwise by x degrees\n",
    "        inputs_minusx_img=scipy.ndimage.rotate(inputs.reshape(28,28),-10,cval=0.01,order=1,reshape=False)\n",
    "        n.train(inputs_minusx_img.reshape(784),targets)\n",
    "        pass"
   ]
  },
  {
   "cell_type": "code",
   "execution_count": 4,
   "id": "6db5fae0",
   "metadata": {
    "ExecuteTime": {
     "end_time": "2022-09-13T17:08:06.521407Z",
     "start_time": "2022-09-13T17:08:06.412388Z"
    }
   },
   "outputs": [],
   "source": [
    "# load the mnist test data CSV file into a list\n",
    "test_data_file=open('mnist_dataset/mnist_test.csv','r')\n",
    "test_data_list=test_data_file.readlines()\n",
    "test_data_file.close()"
   ]
  },
  {
   "cell_type": "code",
   "execution_count": 5,
   "id": "2679f1ad",
   "metadata": {
    "ExecuteTime": {
     "end_time": "2022-09-13T17:08:09.711386Z",
     "start_time": "2022-09-13T17:08:06.523391Z"
    }
   },
   "outputs": [],
   "source": [
    "# test the neural network\n",
    "\n",
    "# scorecard for how well the network performs,initially empty\n",
    "scorecard=[]\n",
    "\n",
    "# go through all the records in the test data set\n",
    "for record in test_data_list:\n",
    "    # split the record the by the ',' commas\n",
    "    all_values=record.split(',')\n",
    "    # correct answer is first value\n",
    "    correct_label=int(all_values[0])\n",
    "    # scale and shift the inputs\n",
    "    inputs=(numpy.asfarray(all_values[1:])/255.0*0.99)+0.01\n",
    "    # query the network\n",
    "    outputs=n.query(inputs)\n",
    "    # the index of the highest value corresponds to the label\n",
    "    label=numpy.argmax(outputs)\n",
    "    # append correct or incorrect to list\n",
    "    if (label==correct_label):\n",
    "        # network's answer matches correct answer,add 1 to scorecard\n",
    "        scorecard.append(1)\n",
    "    else:\n",
    "        # network's answer doesn't match correct answer,add 0 to scorecard\n",
    "        scorecard.append(0)\n",
    "        pass\n",
    "    pass"
   ]
  },
  {
   "cell_type": "code",
   "execution_count": 6,
   "id": "b89a7ce3",
   "metadata": {
    "ExecuteTime": {
     "end_time": "2022-09-13T17:08:09.727378Z",
     "start_time": "2022-09-13T17:08:09.713388Z"
    }
   },
   "outputs": [
    {
     "name": "stdout",
     "output_type": "stream",
     "text": [
      "performance= 0.9785\n"
     ]
    }
   ],
   "source": [
    "# calculate the performance score,the function of correct answers\n",
    "scorecard_array=numpy.asarray(scorecard)\n",
    "print(\"performance=\",scorecard_array.sum()/scorecard_array.size)"
   ]
  }
 ],
 "metadata": {
  "hide_input": false,
  "kernelspec": {
   "display_name": "Python 3 (ipykernel)",
   "language": "python",
   "name": "python3"
  },
  "language_info": {
   "codemirror_mode": {
    "name": "ipython",
    "version": 3
   },
   "file_extension": ".py",
   "mimetype": "text/x-python",
   "name": "python",
   "nbconvert_exporter": "python",
   "pygments_lexer": "ipython3",
   "version": "3.9.12"
  },
  "nbTranslate": {
   "displayLangs": [
    "*"
   ],
   "hotkey": "alt-t",
   "langInMainMenu": true,
   "sourceLang": "en",
   "targetLang": "fr",
   "useGoogleTranslate": true
  },
  "toc": {
   "base_numbering": 1,
   "nav_menu": {},
   "number_sections": true,
   "sideBar": true,
   "skip_h1_title": false,
   "title_cell": "Table of Contents",
   "title_sidebar": "Contents",
   "toc_cell": false,
   "toc_position": {},
   "toc_section_display": true,
   "toc_window_display": false
  },
  "varInspector": {
   "cols": {
    "lenName": 16,
    "lenType": 16,
    "lenVar": 40
   },
   "kernels_config": {
    "python": {
     "delete_cmd_postfix": "",
     "delete_cmd_prefix": "del ",
     "library": "var_list.py",
     "varRefreshCmd": "print(var_dic_list())"
    },
    "r": {
     "delete_cmd_postfix": ") ",
     "delete_cmd_prefix": "rm(",
     "library": "var_list.r",
     "varRefreshCmd": "cat(var_dic_list()) "
    }
   },
   "types_to_exclude": [
    "module",
    "function",
    "builtin_function_or_method",
    "instance",
    "_Feature"
   ],
   "window_display": false
  }
 },
 "nbformat": 4,
 "nbformat_minor": 5
}
