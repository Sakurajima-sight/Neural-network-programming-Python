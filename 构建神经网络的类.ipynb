{
 "cells": [
  {
   "cell_type": "code",
   "execution_count": 1,
   "id": "1162909e",
   "metadata": {
    "ExecuteTime": {
     "end_time": "2022-09-11T06:19:01.157091Z",
     "start_time": "2022-09-11T06:19:01.143106Z"
    }
   },
   "outputs": [],
   "source": [
    "# neural network class definition\n",
    "class neuralNetwork:\n",
    "    \n",
    "    # initialise the neural network    \n",
    "    def __init__():\n",
    "        pass\n",
    "    \n",
    "    # train the neural network\n",
    "    def train():\n",
    "        pass\n",
    "    \n",
    "    # query the neural network\n",
    "    def query():\n",
    "        pass"
   ]
  },
  {
   "cell_type": "code",
   "execution_count": 2,
   "id": "38a9d63b",
   "metadata": {
    "ExecuteTime": {
     "end_time": "2022-09-11T06:19:01.173112Z",
     "start_time": "2022-09-11T06:19:01.159095Z"
    }
   },
   "outputs": [],
   "source": [
    "# neural network class definition\n",
    "class neuralNetwork:\n",
    "    \n",
    "    # initialise the neural network    \n",
    "    def __init__(self,inputnodes,hiddennodes,outputnodes,learningrate):\n",
    "        # set number of nodes in each input,hidden,output layer         \n",
    "        self.inodes=inputnodes\n",
    "        self.hnodes=hiddennodes\n",
    "        self.onodes=outputnodes\n",
    "        \n",
    "        # learning rate         \n",
    "        self.lr=learningrate\n",
    "        pass\n",
    "    \n",
    "    # train the neural network\n",
    "    def train():\n",
    "        pass\n",
    "    \n",
    "    # query the neural network\n",
    "    def query():\n",
    "        pass"
   ]
  },
  {
   "cell_type": "code",
   "execution_count": 3,
   "id": "348300de",
   "metadata": {
    "ExecuteTime": {
     "end_time": "2022-09-11T06:19:01.189113Z",
     "start_time": "2022-09-11T06:19:01.175094Z"
    }
   },
   "outputs": [],
   "source": [
    "# number of input,hidden and output nodes\n",
    "input_nodes=3\n",
    "hidden_nodes=3\n",
    "output_nodes=3\n",
    "\n",
    "# learning rate is 0.5\n",
    "learning_rate=0.5\n",
    "\n",
    "# create instance of neural network\n",
    "n=neuralNetwork(input_nodes,hidden_nodes,output_nodes,learning_rate)"
   ]
  },
  {
   "cell_type": "code",
   "execution_count": 4,
   "id": "eed13147",
   "metadata": {
    "ExecuteTime": {
     "end_time": "2022-09-11T06:19:01.317113Z",
     "start_time": "2022-09-11T06:19:01.191107Z"
    }
   },
   "outputs": [],
   "source": [
    "import numpy "
   ]
  },
  {
   "cell_type": "code",
   "execution_count": 5,
   "id": "44d68e20",
   "metadata": {
    "ExecuteTime": {
     "end_time": "2022-09-11T06:19:01.333102Z",
     "start_time": "2022-09-11T06:19:01.319102Z"
    }
   },
   "outputs": [
    {
     "data": {
      "text/plain": [
       "array([[0.63695351, 0.29462342, 0.48547559],\n",
       "       [0.40938222, 0.9182003 , 0.12648432],\n",
       "       [0.44534782, 0.71777326, 0.36285663]])"
      ]
     },
     "execution_count": 5,
     "metadata": {},
     "output_type": "execute_result"
    }
   ],
   "source": [
    "numpy.random.rand(3,3)"
   ]
  },
  {
   "cell_type": "code",
   "execution_count": 6,
   "id": "07b70ab9",
   "metadata": {
    "ExecuteTime": {
     "end_time": "2022-09-11T06:19:01.349102Z",
     "start_time": "2022-09-11T06:19:01.335099Z"
    }
   },
   "outputs": [
    {
     "data": {
      "text/plain": [
       "array([[-0.07435534,  0.31102817,  0.01456415],\n",
       "       [-0.12349401,  0.07507619,  0.31531358],\n",
       "       [-0.39674669, -0.3401556 ,  0.26834452]])"
      ]
     },
     "execution_count": 6,
     "metadata": {},
     "output_type": "execute_result"
    }
   ],
   "source": [
    "numpy.random.rand(3,3)-0.5"
   ]
  },
  {
   "cell_type": "code",
   "execution_count": 7,
   "id": "b355fd78",
   "metadata": {
    "ExecuteTime": {
     "end_time": "2022-09-11T06:19:01.365122Z",
     "start_time": "2022-09-11T06:19:01.351096Z"
    }
   },
   "outputs": [],
   "source": [
    "# neural network class definition\n",
    "class neuralNetwork:\n",
    "    \n",
    "    # initialise the neural network    \n",
    "    def __init__(self,inputnodes,hiddennodes,outputnodes,learningrate):\n",
    "        # set number of nodes in each input,hidden,output layer         \n",
    "        self.inodes=inputnodes\n",
    "        self.hnodes=hiddennodes\n",
    "        self.onodes=outputnodes\n",
    "        \n",
    "        # learning rate         \n",
    "        self.lr=learningrate\n",
    "        pass\n",
    "    \n",
    "        # weight inside the arrays are w_i_j,where link is from node i to node j in the next layer\n",
    "        # w11 w21\n",
    "        # w12 w22 etc\n",
    "        self.wih=(numpy.random.rand(self.hnodes,self.inodes)-0.5)\n",
    "        self.who=(numpy.random.rand(self.onodes,self.hnodes)-0.5)\n",
    "        \n",
    "    # train the neural network\n",
    "    def train():\n",
    "        pass\n",
    "    \n",
    "    # query the neural network\n",
    "    def query():\n",
    "        pass"
   ]
  },
  {
   "cell_type": "code",
   "execution_count": 8,
   "id": "20d0d872",
   "metadata": {
    "ExecuteTime": {
     "end_time": "2022-09-11T06:19:01.381122Z",
     "start_time": "2022-09-11T06:19:01.367093Z"
    }
   },
   "outputs": [],
   "source": [
    "# neural network class definition\n",
    "class neuralNetwork:\n",
    "    \n",
    "    # initialise the neural network    \n",
    "    def __init__(self,inputnodes,hiddennodes,outputnodes,learningrate):\n",
    "        # set number of nodes in each input,hidden,output layer         \n",
    "        self.inodes=inputnodes\n",
    "        self.hnodes=hiddennodes\n",
    "        self.onodes=outputnodes\n",
    "        \n",
    "        # learning rate         \n",
    "        self.lr=learningrate\n",
    "        pass\n",
    "    \n",
    "        # weight inside the arrays are w_i_j,where link is from node i to node j in the next layer\n",
    "        # w11 w21\n",
    "        # w12 w22 etc\n",
    "        # self.wih=(numpy.random.rand(self.hnodes,self.inodes)-0.5)\n",
    "        # self.who=(numpy.random.rand(self.onodes,self.hnodes)-0.5)\n",
    "        self.wih=numpy.random.normal(0.0,pow(self.hnodes,-0.5),(self.hnodes,self.inodes))\n",
    "        self.who=numpy.random.normal(0.0,pow(self.onodes,-0.5),(self.onodes,self.hnodes))\n",
    "        \n",
    "    # train the neural network\n",
    "    def train():\n",
    "        pass\n",
    "    \n",
    "    # query the neural network\n",
    "    def query():\n",
    "        pass"
   ]
  },
  {
   "cell_type": "code",
   "execution_count": 9,
   "id": "9c93b972",
   "metadata": {
    "ExecuteTime": {
     "end_time": "2022-09-11T06:19:01.397122Z",
     "start_time": "2022-09-11T06:19:01.383093Z"
    }
   },
   "outputs": [],
   "source": [
    "# neural network class definition\n",
    "class neuralNetwork:\n",
    "    \n",
    "    # initialise the neural network    \n",
    "    def __init__(self,inputnodes,hiddennodes,outputnodes,learningrate):\n",
    "        # set number of nodes in each input,hidden,output layer         \n",
    "        self.inodes=inputnodes\n",
    "        self.hnodes=hiddennodes\n",
    "        self.onodes=outputnodes\n",
    "        \n",
    "        # learning rate         \n",
    "        self.lr=learningrate\n",
    "        pass\n",
    "    \n",
    "        # weight inside the arrays are w_i_j,where link is from node i to node j in the next layer\n",
    "        # w11 w21\n",
    "        # w12 w22 etc\n",
    "        # self.wih=(numpy.random.rand(self.hnodes,self.inodes)-0.5)\n",
    "        # self.who=(numpy.random.rand(self.onodes,self.hnodes)-0.5)\n",
    "        self.wih=numpy.random.normal(0.0,pow(self.hnodes,-0.5),(self.hnodes,self.inodes))\n",
    "        self.who=numpy.random.normal(0.0,pow(self.onodes,-0.5),(self.onodes,self.hnodes))\n",
    "        \n",
    "    # train the neural network\n",
    "    def train():\n",
    "        pass\n",
    "    \n",
    "    # query the neural network\n",
    "    def query():\n",
    "        hidden_inputs=numpy.dot(self.wih,inputs)"
   ]
  },
  {
   "cell_type": "code",
   "execution_count": 10,
   "id": "58a0a045",
   "metadata": {
    "ExecuteTime": {
     "end_time": "2022-09-11T06:19:01.573175Z",
     "start_time": "2022-09-11T06:19:01.403114Z"
    }
   },
   "outputs": [],
   "source": [
    "import numpy\n",
    "\n",
    "# scipy.special for the sigmoid function expit()\n",
    "import scipy.special"
   ]
  },
  {
   "cell_type": "code",
   "execution_count": 14,
   "id": "bf106605",
   "metadata": {
    "ExecuteTime": {
     "end_time": "2022-09-11T06:22:05.839158Z",
     "start_time": "2022-09-11T06:22:05.830165Z"
    }
   },
   "outputs": [],
   "source": [
    "# neural network class definition\n",
    "class neuralNetwork:\n",
    "    \n",
    "    # initialise the neural network    \n",
    "    def __init__(self,inputnodes,hiddennodes,outputnodes,learningrate):\n",
    "        # set number of nodes in each input,hidden,output layer         \n",
    "        self.inodes=inputnodes\n",
    "        self.hnodes=hiddennodes\n",
    "        self.onodes=outputnodes\n",
    "        \n",
    "        # learning rate         \n",
    "        self.lr=learningrate\n",
    "        pass\n",
    "    \n",
    "        # weight inside the arrays are w_i_j,where link is from node i to node j in the next layer\n",
    "        # w11 w21\n",
    "        # w12 w22 etc\n",
    "        # self.wih=(numpy.random.rand(self.hnodes,self.inodes)-0.5)\n",
    "        # self.who=(numpy.random.rand(self.onodes,self.hnodes)-0.5)\n",
    "        self.wih=numpy.random.normal(0.0,pow(self.hnodes,-0.5),(self.hnodes,self.inodes))\n",
    "        self.who=numpy.random.normal(0.0,pow(self.onodes,-0.5),(self.onodes,self.hnodes))\n",
    "        \n",
    "        # activation function is the sigmoid function\n",
    "        self.activation_function=lambda x:scipy.special.expit(x)\n",
    "        \n",
    "        pass\n",
    "        \n",
    "    # train the neural network\n",
    "    def train():\n",
    "        pass\n",
    "    \n",
    "    # query the neural network\n",
    "    def query(self,input_list):\n",
    "        # convert inputs list to 2d array\n",
    "        inputs=numpy.array(input_list,ndmin=2).T\n",
    "        \n",
    "        # calculate signals into hidden layer\n",
    "        hidden_inputs=numpy.dot(self.wih,inputs)\n",
    "        # calculate the signals emerging from hidden layer\n",
    "        hidden_outputs=self.activation_function(hidden_inputs)\n",
    "        \n",
    "        # calculate signals into final output layer\n",
    "        final_inputs=numpy.dot(self.who,hidden_outputs)\n",
    "        # calculate the signals emerging from final output layer\n",
    "        final_outputs=self.activation_function(final_inputs)\n",
    "        \n",
    "        return final_outputs"
   ]
  },
  {
   "cell_type": "code",
   "execution_count": 15,
   "id": "8e958f84",
   "metadata": {
    "ExecuteTime": {
     "end_time": "2022-09-11T06:22:06.282848Z",
     "start_time": "2022-09-11T06:22:06.275840Z"
    }
   },
   "outputs": [],
   "source": [
    "# number of input,hidden and output nodes\n",
    "input_nodes=3\n",
    "hidden_nodes=3\n",
    "output_nodes=3\n",
    "\n",
    "# learning rate is 0.5\n",
    "learning_rate=0.5\n",
    "\n",
    "# create instance of neural network\n",
    "n=neuralNetwork(input_nodes,hidden_nodes,output_nodes,learning_rate)"
   ]
  },
  {
   "cell_type": "code",
   "execution_count": 16,
   "id": "5fbf80db",
   "metadata": {
    "ExecuteTime": {
     "end_time": "2022-09-11T06:22:07.207315Z",
     "start_time": "2022-09-11T06:22:07.199326Z"
    }
   },
   "outputs": [
    {
     "data": {
      "text/plain": [
       "array([[0.20840516],\n",
       "       [0.23979662],\n",
       "       [0.44511465]])"
      ]
     },
     "execution_count": 16,
     "metadata": {},
     "output_type": "execute_result"
    }
   ],
   "source": [
    "n.query([1.0,0.5,1.5])"
   ]
  },
  {
   "cell_type": "code",
   "execution_count": 17,
   "id": "e5d398ec",
   "metadata": {
    "ExecuteTime": {
     "end_time": "2022-09-11T10:50:15.797490Z",
     "start_time": "2022-09-11T10:50:15.779490Z"
    }
   },
   "outputs": [],
   "source": [
    "# neural network class definition\n",
    "class neuralNetwork:\n",
    "    \n",
    "    # initialise the neural network    \n",
    "    def __init__(self,inputnodes,hiddennodes,outputnodes,learningrate):\n",
    "        # set number of nodes in each input,hidden,output layer         \n",
    "        self.inodes=inputnodes\n",
    "        self.hnodes=hiddennodes\n",
    "        self.onodes=outputnodes\n",
    "    \n",
    "        # link weight matrices,wih and who\n",
    "        # weight inside the arrays are w_i_j,where link is from node i to node j in the next layer\n",
    "        # w11 w21\n",
    "        # w12 w22 etc\n",
    "        # self.wih=(numpy.random.rand(self.hnodes,self.inodes)-0.5)\n",
    "        # self.who=(numpy.random.rand(self.onodes,self.hnodes)-0.5)\n",
    "        self.wih=numpy.random.normal(0.0,pow(self.hnodes,-0.5),(self.hnodes,self.inodes))\n",
    "        self.who=numpy.random.normal(0.0,pow(self.onodes,-0.5),(self.onodes,self.hnodes))\n",
    "        \n",
    "        # learning rate         \n",
    "        self.lr=learningrate\n",
    "        \n",
    "        # activation function is the sigmoid function\n",
    "        self.activation_function=lambda x:scipy.special.expit(x)\n",
    "        \n",
    "        pass\n",
    "        \n",
    "    # train the neural network\n",
    "    def train(self,input_list,targets_list):\n",
    "        # convert inputs list to 2d array\n",
    "        inputs=numpy.array(input_list,ndmin=2).T\n",
    "        targets=numpy.array(targets_list,ndmin=2).T\n",
    "        \n",
    "        # calculate signals into hidden layer\n",
    "        hidden_inputs=numpy.dot(self.wih,inputs)\n",
    "        # calculate the signals emerging from hidden layer\n",
    "        hidden_outputs=self.activation_function(hidden_inputs)\n",
    "        \n",
    "        # calculate signals into final output layer\n",
    "        final_inputs=numpy.dot(self.who,hidden_outputs)\n",
    "        # calculate the signals emerging from final output layer\n",
    "        final_outputs=self.activation_function(final_inputs)\n",
    "        # error is the (target-actual)\n",
    "        output_errors=targets-final_outputs\n",
    "        # hidden layer error is the output_errors,split by weights,recombined at hidden nodes\n",
    "        hidden_errors=numpy.dot(self.who.T,output_errors)\n",
    "        \n",
    "        # update the weights for the links between the hidden and output layers\n",
    "        self.who+=self.lr*numpy.dot((output_errors*final_outputs*(1.0-final_outputs)),numpy.transpose(hidden_outputs))\n",
    "        \n",
    "        # update the weights for the links between the hidden and output layers\n",
    "        self.wih+=self.lr*numpy.dot((output_errors*hidden_outputs*(1.0-hidden_outputs)),numpy.transpose(inputs))\n",
    "        pass\n",
    "    \n",
    "    # query the neural network\n",
    "    def query(self,input_list):\n",
    "        # convert inputs list to 2d array\n",
    "        inputs=numpy.array(input_list,ndmin=2).T\n",
    "        \n",
    "        # calculate signals into hidden layer\n",
    "        hidden_inputs=numpy.dot(self.wih,inputs)\n",
    "        # calculate the signals emerging from hidden layer\n",
    "        hidden_outputs=self.activation_function(hidden_inputs)\n",
    "        \n",
    "        # calculate signals into final output layer\n",
    "        final_inputs=numpy.dot(self.who,hidden_outputs)\n",
    "        # calculate the signals emerging from final output layer\n",
    "        final_outputs=self.activation_function(final_inputs)\n",
    "        \n",
    "        return final_outputs"
   ]
  },
  {
   "cell_type": "code",
   "execution_count": 22,
   "id": "5e56aec7",
   "metadata": {
    "ExecuteTime": {
     "end_time": "2022-09-11T13:50:32.164358Z",
     "start_time": "2022-09-11T13:50:32.149356Z"
    }
   },
   "outputs": [
    {
     "data": {
      "text/plain": [
       "array([[1],\n",
       "       [2],\n",
       "       [3]])"
      ]
     },
     "execution_count": 22,
     "metadata": {},
     "output_type": "execute_result"
    }
   ],
   "source": [
    "np.array([[1,2,3]]).T"
   ]
  },
  {
   "cell_type": "code",
   "execution_count": null,
   "id": "b70c3ee1",
   "metadata": {},
   "outputs": [],
   "source": []
  }
 ],
 "metadata": {
  "hide_input": false,
  "kernelspec": {
   "display_name": "Python 3 (ipykernel)",
   "language": "python",
   "name": "python3"
  },
  "language_info": {
   "codemirror_mode": {
    "name": "ipython",
    "version": 3
   },
   "file_extension": ".py",
   "mimetype": "text/x-python",
   "name": "python",
   "nbconvert_exporter": "python",
   "pygments_lexer": "ipython3",
   "version": "3.9.12"
  },
  "nbTranslate": {
   "displayLangs": [
    "*"
   ],
   "hotkey": "alt-t",
   "langInMainMenu": true,
   "sourceLang": "en",
   "targetLang": "fr",
   "useGoogleTranslate": true
  },
  "toc": {
   "base_numbering": 1,
   "nav_menu": {},
   "number_sections": true,
   "sideBar": true,
   "skip_h1_title": false,
   "title_cell": "Table of Contents",
   "title_sidebar": "Contents",
   "toc_cell": false,
   "toc_position": {},
   "toc_section_display": true,
   "toc_window_display": false
  },
  "varInspector": {
   "cols": {
    "lenName": 16,
    "lenType": 16,
    "lenVar": 40
   },
   "kernels_config": {
    "python": {
     "delete_cmd_postfix": "",
     "delete_cmd_prefix": "del ",
     "library": "var_list.py",
     "varRefreshCmd": "print(var_dic_list())"
    },
    "r": {
     "delete_cmd_postfix": ") ",
     "delete_cmd_prefix": "rm(",
     "library": "var_list.r",
     "varRefreshCmd": "cat(var_dic_list()) "
    }
   },
   "types_to_exclude": [
    "module",
    "function",
    "builtin_function_or_method",
    "instance",
    "_Feature"
   ],
   "window_display": false
  }
 },
 "nbformat": 4,
 "nbformat_minor": 5
}
