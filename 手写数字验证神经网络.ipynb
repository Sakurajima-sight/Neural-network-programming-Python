{
 "cells": [
  {
   "cell_type": "code",
   "execution_count": 1,
   "id": "ff5c8f4d",
   "metadata": {
    "ExecuteTime": {
     "end_time": "2022-09-13T15:05:49.569526Z",
     "start_time": "2022-09-13T15:05:48.725880Z"
    }
   },
   "outputs": [],
   "source": [
    "import numpy\n",
    "# scipy.special for the sigmoid function expit()\n",
    "import scipy.special\n",
    "# ensure the plots are inside this notebook, not an external window\n",
    "import matplotlib.pyplot\n",
    "%matplotlib inline"
   ]
  },
  {
   "cell_type": "code",
   "execution_count": 2,
   "id": "34f7b3f2",
   "metadata": {
    "ExecuteTime": {
     "end_time": "2022-09-13T15:05:49.585516Z",
     "start_time": "2022-09-13T15:05:49.571502Z"
    }
   },
   "outputs": [],
   "source": [
    "# neural network class definition\n",
    "class neuralNetwork:\n",
    "    \n",
    "    # initialise the neural network    \n",
    "    def __init__(self,inputnodes,hiddennodes,outputnodes,learningrate):\n",
    "        # set number of nodes in each input,hidden,output layer         \n",
    "        self.inodes=inputnodes\n",
    "        self.hnodes=hiddennodes\n",
    "        self.onodes=outputnodes\n",
    "    \n",
    "        # link weight matrices,wih and who\n",
    "        # weight inside the arrays are w_i_j,where link is from node i to node j in the next layer\n",
    "        # w11 w21\n",
    "        # w12 w22 etc\n",
    "        # self.wih=(numpy.random.rand(self.hnodes,self.inodes)-0.5)\n",
    "        # self.who=(numpy.random.rand(self.onodes,self.hnodes)-0.5)\n",
    "        self.wih=numpy.random.normal(0.0,pow(self.hnodes,-0.5),(self.hnodes,self.inodes))\n",
    "        self.who=numpy.random.normal(0.0,pow(self.onodes,-0.5),(self.onodes,self.hnodes))\n",
    "        \n",
    "        # learning rate         \n",
    "        self.lr=learningrate\n",
    "        \n",
    "        # activation function is the sigmoid function\n",
    "        self.activation_function=lambda x:scipy.special.expit(x)\n",
    "        \n",
    "        pass\n",
    "        \n",
    "    # train the neural network\n",
    "    def train(self,input_list,targets_list):\n",
    "        # convert inputs list to 2d array\n",
    "        inputs=numpy.array(input_list,ndmin=2).T\n",
    "        targets=numpy.array(targets_list,ndmin=2).T\n",
    "        \n",
    "        # calculate signals into hidden layer\n",
    "        hidden_inputs=numpy.dot(self.wih,inputs)\n",
    "        # calculate the signals emerging from hidden layer\n",
    "        hidden_outputs=self.activation_function(hidden_inputs)\n",
    "        \n",
    "        # calculate signals into final output layer\n",
    "        final_inputs=numpy.dot(self.who,hidden_outputs)\n",
    "        # calculate the signals emerging from final output layer\n",
    "        final_outputs=self.activation_function(final_inputs)\n",
    "        # error is the (target-actual)\n",
    "        output_errors=targets-final_outputs\n",
    "        # hidden layer error is the output_errors,split by weights,recombined at hidden nodes\n",
    "        hidden_errors=numpy.dot(self.who.T,output_errors)\n",
    "        \n",
    "        # update the weights for the links between the hidden and output layers\n",
    "        self.who+=self.lr*numpy.dot((output_errors*final_outputs*(1.0-final_outputs)),numpy.transpose(hidden_outputs))\n",
    "        \n",
    "        # update the weights for the links between the hidden and output layers\n",
    "        self.wih+=self.lr*numpy.dot((hidden_errors*hidden_outputs*(1.0-hidden_outputs)),numpy.transpose(inputs))\n",
    "        pass\n",
    "    \n",
    "    # query the neural network\n",
    "    def query(self,input_list):\n",
    "        # convert inputs list to 2d array\n",
    "        inputs=numpy.array(input_list,ndmin=2).T\n",
    "        \n",
    "        # calculate signals into hidden layer\n",
    "        hidden_inputs=numpy.dot(self.wih,inputs)\n",
    "        # calculate the signals emerging from hidden layer\n",
    "        hidden_outputs=self.activation_function(hidden_inputs)\n",
    "        \n",
    "        # calculate signals into final output layer\n",
    "        final_inputs=numpy.dot(self.who,hidden_outputs)\n",
    "        # calculate the signals emerging from final output layer\n",
    "        final_outputs=self.activation_function(final_inputs)\n",
    "        \n",
    "        return final_outputs"
   ]
  },
  {
   "cell_type": "code",
   "execution_count": 3,
   "id": "67fcfb3b",
   "metadata": {
    "ExecuteTime": {
     "end_time": "2022-09-13T15:14:40.227570Z",
     "start_time": "2022-09-13T15:05:49.587509Z"
    }
   },
   "outputs": [],
   "source": [
    "# number of input,hidden and output nodes\n",
    "input_nodes=784\n",
    "hidden_nodes=200\n",
    "output_nodes=10\n",
    "\n",
    "# learning rate is 0.1\n",
    "learning_rate=0.1\n",
    "\n",
    "# create instance of neural network\n",
    "n=neuralNetwork(input_nodes,hidden_nodes,output_nodes,learning_rate)\n",
    "\n",
    "# load the mnist training data CSV file into a list\n",
    "training_data_file=open('mnist_dataset/mnist_train.csv','r')\n",
    "training_data_list=training_data_file.readlines()\n",
    "training_data_file.close()\n",
    "\n",
    "# train the neural network\n",
    "\n",
    "# epochs is the number of times the training data set is used for training\n",
    "epochs=7\n",
    "\n",
    "for e in range(epochs):\n",
    "    # go through all records in the training data set \n",
    "    for record in training_data_list:\n",
    "        # split the record by the ',' commas\n",
    "        all_values=record.split(',')\n",
    "        # scale and shift the inputs\n",
    "        inputs=(numpy.asfarray(all_values[1:])/255.0*0.99)+0.01\n",
    "        # create the target output values (all 0.01,expect the desired label which is 0.99)\n",
    "        targets=numpy.zeros(output_nodes)+0.01\n",
    "        # all_values[0] is the target label for this record\n",
    "        targets[int(all_values[0])]=0.99\n",
    "        n.train(inputs,targets)\n",
    "        pass"
   ]
  },
  {
   "cell_type": "code",
   "execution_count": 4,
   "id": "6db5fae0",
   "metadata": {
    "ExecuteTime": {
     "end_time": "2022-09-13T15:14:40.831354Z",
     "start_time": "2022-09-13T15:14:40.229549Z"
    }
   },
   "outputs": [],
   "source": [
    "# load the mnist test data CSV file into a list\n",
    "test_data_file=open('mnist_dataset/mnist_train.csv','r')\n",
    "test_data_list=test_data_file.readlines()\n",
    "test_data_file.close()"
   ]
  },
  {
   "cell_type": "code",
   "execution_count": 5,
   "id": "2679f1ad",
   "metadata": {
    "ExecuteTime": {
     "end_time": "2022-09-13T15:15:00.062428Z",
     "start_time": "2022-09-13T15:14:40.833337Z"
    }
   },
   "outputs": [],
   "source": [
    "# test the neural network\n",
    "\n",
    "# scorecard for how well the network performs,initially empty\n",
    "scorecard=[]\n",
    "\n",
    "# go through all the records in the test data set\n",
    "for record in test_data_list:\n",
    "    # split the record the by the ',' commas\n",
    "    all_values=record.split(',')\n",
    "    # correct answer is first value\n",
    "    correct_label=int(all_values[0])\n",
    "    # scale and shift the inputs\n",
    "    inputs=(numpy.asfarray(all_values[1:])/255.0*0.99)+0.01\n",
    "    # query the network\n",
    "    outputs=n.query(inputs)\n",
    "    # the index of the highest value corresponds to the label\n",
    "    label=numpy.argmax(outputs)\n",
    "    # append correct or incorrect to list\n",
    "    if (label==correct_label):\n",
    "        # network's answer matches correct answer,add 1 to scorecard\n",
    "        scorecard.append(1)\n",
    "    else:\n",
    "        # network's answer doesn't match correct answer,add 0 to scorecard\n",
    "        scorecard.append(0)\n",
    "        pass\n",
    "    pass"
   ]
  },
  {
   "cell_type": "code",
   "execution_count": 6,
   "id": "b89a7ce3",
   "metadata": {
    "ExecuteTime": {
     "end_time": "2022-09-13T15:15:00.078418Z",
     "start_time": "2022-09-13T15:15:00.064408Z"
    }
   },
   "outputs": [
    {
     "name": "stdout",
     "output_type": "stream",
     "text": [
      "performance =  0.9887166666666667\n"
     ]
    }
   ],
   "source": [
    "# calculate the performance score,the function of correct answers\n",
    "scorecard_array=numpy.asarray(scorecard)\n",
    "print(\"performance = \",scorecard_array.sum()/scorecard_array.size)"
   ]
  },
  {
   "cell_type": "code",
   "execution_count": 7,
   "id": "22a0b87e",
   "metadata": {
    "ExecuteTime": {
     "end_time": "2022-09-13T15:15:00.142418Z",
     "start_time": "2022-09-13T15:15:00.080404Z"
    }
   },
   "outputs": [],
   "source": [
    "import imageio\n",
    "img_array=imageio.imread('my_own_images/bird_5.png',as_gray=True)"
   ]
  },
  {
   "cell_type": "code",
   "execution_count": 8,
   "id": "ac1e05f4",
   "metadata": {
    "ExecuteTime": {
     "end_time": "2022-09-13T15:15:00.253418Z",
     "start_time": "2022-09-13T15:15:00.144398Z"
    }
   },
   "outputs": [
    {
     "data": {
      "text/plain": [
       "<matplotlib.image.AxesImage at 0x2d38bf840d0>"
      ]
     },
     "execution_count": 8,
     "metadata": {},
     "output_type": "execute_result"
    },
    {
     "data": {
      "image/png": "[encoded data removed]",
      "text/plain": [
       "<Figure size 432x288 with 1 Axes>"
      ]
     },
     "metadata": {
      "needs_background": "light"
     },
     "output_type": "display_data"
    }
   ],
   "source": [
    "img_data=255.0-img_array\n",
    "img_data=(img_data/255.0*0.99)+0.01\n",
    "matplotlib.pyplot.imshow(img_data,cmap='Greys',interpolation='None')"
   ]
  },
  {
   "cell_type": "code",
   "execution_count": 9,
   "id": "d59dfd82",
   "metadata": {
    "ExecuteTime": {
     "end_time": "2022-09-13T15:15:00.269401Z",
     "start_time": "2022-09-13T15:15:00.255403Z"
    }
   },
   "outputs": [],
   "source": [
    "img_data=255.0-img_array.reshape(784)\n",
    "img_data=(img_data/255.0*0.99)+0.01"
   ]
  },
  {
   "cell_type": "code",
   "execution_count": 10,
   "id": "89b60640",
   "metadata": {
    "ExecuteTime": {
     "end_time": "2022-09-13T15:15:00.285418Z",
     "start_time": "2022-09-13T15:15:00.272404Z"
    }
   },
   "outputs": [
    {
     "data": {
      "text/plain": [
       "6"
      ]
     },
     "execution_count": 10,
     "metadata": {},
     "output_type": "execute_result"
    }
   ],
   "source": [
    "numpy.argmax(n.query(img_data))"
   ]
  },
  {
   "cell_type": "code",
   "execution_count": 11,
   "id": "fc0f42a3",
   "metadata": {
    "ExecuteTime": {
     "end_time": "2022-09-13T15:15:00.301400Z",
     "start_time": "2022-09-13T15:15:00.287405Z"
    }
   },
   "outputs": [],
   "source": [
    "def use_your_mnist_test(image,correct_label):\n",
    "    img_array=imageio.imread(image,as_gray=True)\n",
    "    img_show=255.0-img_array\n",
    "    matplotlib.pyplot.imshow(img_show,cmap='Greys',interpolation='None')\n",
    "    img_data=255.0-img_array.reshape(784)\n",
    "    img_data=(img_data/255.0*0.99)+0.01\n",
    "    result=n.query(img_data)\n",
    "    print(result)\n",
    "    network_label=numpy.argmax(result)\n",
    "    print('network says ',network_label)\n",
    "    if network_label==correct_label:\n",
    "        print('match!')\n",
    "    else:\n",
    "        print('no match!')"
   ]
  },
  {
   "cell_type": "code",
   "execution_count": 12,
   "id": "232d7415",
   "metadata": {
    "ExecuteTime": {
     "end_time": "2022-09-13T15:15:00.380405Z",
     "start_time": "2022-09-13T15:15:00.303410Z"
    }
   },
   "outputs": [
    {
     "name": "stdout",
     "output_type": "stream",
     "text": [
      "[[1.11653840e-04]\n",
      " [1.69310145e-01]\n",
      " [2.75758901e-03]\n",
      " [8.71652819e-03]\n",
      " [2.18101756e-04]\n",
      " [2.11206724e-02]\n",
      " [4.14747132e-01]\n",
      " [1.00896309e-01]\n",
      " [1.67468423e-03]\n",
      " [1.33236181e-01]]\n",
      "network says  6\n",
      "no match!\n"
     ]
    },
    {
     "data": {
      "image/png": "[encoded data removed]",
      "text/plain": [
       "<Figure size 432x288 with 1 Axes>"
      ]
     },
     "metadata": {
      "needs_background": "light"
     },
     "output_type": "display_data"
    }
   ],
   "source": [
    "use_your_mnist_test('my_own_images/bird_5.png',5)"
   ]
  },
  {
   "cell_type": "code",
   "execution_count": 13,
   "id": "a0e4838e",
   "metadata": {
    "ExecuteTime": {
     "end_time": "2022-09-13T15:15:00.459428Z",
     "start_time": "2022-09-13T15:15:00.382404Z"
    }
   },
   "outputs": [
    {
     "name": "stdout",
     "output_type": "stream",
     "text": [
      "[[5.49945070e-03]\n",
      " [2.43772251e-03]\n",
      " [1.04023091e-02]\n",
      " [5.88067512e-01]\n",
      " [3.15072010e-03]\n",
      " [3.07876373e-04]\n",
      " [1.16115944e-03]\n",
      " [2.84114263e-01]\n",
      " [1.21933265e-03]\n",
      " [3.72261300e-01]]\n",
      "network says  3\n",
      "match!\n"
     ]
    },
    {
     "data": {
      "image/png": "[encoded data removed]",
      "text/plain": [
       "<Figure size 432x288 with 1 Axes>"
      ]
     },
     "metadata": {
      "needs_background": "light"
     },
     "output_type": "display_data"
    }
   ],
   "source": [
    "use_your_mnist_test('my_own_images/my_own_3.png',3)"
   ]
  },
  {
   "cell_type": "code",
   "execution_count": 14,
   "id": "b7eff334",
   "metadata": {
    "ExecuteTime": {
     "end_time": "2022-09-13T15:15:00.538419Z",
     "start_time": "2022-09-13T15:15:00.461408Z"
    }
   },
   "outputs": [
    {
     "name": "stdout",
     "output_type": "stream",
     "text": [
      "[[1.20354351e-03]\n",
      " [9.81588066e-03]\n",
      " [7.53839575e-01]\n",
      " [2.82899347e-01]\n",
      " [9.13217314e-03]\n",
      " [1.12110026e-03]\n",
      " [4.95840924e-04]\n",
      " [1.85933100e-01]\n",
      " [2.78442152e-04]\n",
      " [6.93269276e-04]]\n",
      "network says  2\n",
      "match!\n"
     ]
    },
    {
     "data": {
      "image/png": "[encoded data removed]",
      "text/plain": [
       "<Figure size 432x288 with 1 Axes>"
      ]
     },
     "metadata": {
      "needs_background": "light"
     },
     "output_type": "display_data"
    }
   ],
   "source": [
    "use_your_mnist_test('my_own_images/2828_my_own_2.png',2)"
   ]
  },
  {
   "cell_type": "code",
   "execution_count": 15,
   "id": "65c29ccf",
   "metadata": {
    "ExecuteTime": {
     "end_time": "2022-09-13T15:15:00.618421Z",
     "start_time": "2022-09-13T15:15:00.540408Z"
    }
   },
   "outputs": [
    {
     "name": "stdout",
     "output_type": "stream",
     "text": [
      "[[2.11943632e-03]\n",
      " [1.79906293e-03]\n",
      " [6.77814337e-04]\n",
      " [9.44164780e-01]\n",
      " [3.70096003e-04]\n",
      " [5.82916137e-02]\n",
      " [7.81798124e-03]\n",
      " [9.27557979e-03]\n",
      " [6.35654558e-04]\n",
      " [4.38065275e-03]]\n",
      "network says  3\n",
      "match!\n"
     ]
    },
    {
     "data": {
      "image/png": "[encoded data removed]",
      "text/plain": [
       "<Figure size 432x288 with 1 Axes>"
      ]
     },
     "metadata": {
      "needs_background": "light"
     },
     "output_type": "display_data"
    }
   ],
   "source": [
    "use_your_mnist_test('my_own_images/2828_my_own_3.png',3)"
   ]
  },
  {
   "cell_type": "code",
   "execution_count": 16,
   "id": "857f3355",
   "metadata": {
    "ExecuteTime": {
     "end_time": "2022-09-13T15:15:00.697427Z",
     "start_time": "2022-09-13T15:15:00.621406Z"
    }
   },
   "outputs": [
    {
     "name": "stdout",
     "output_type": "stream",
     "text": [
      "[[7.11908519e-04]\n",
      " [4.31142599e-03]\n",
      " [1.19470158e-01]\n",
      " [9.33773949e-04]\n",
      " [9.54919481e-01]\n",
      " [1.06244371e-02]\n",
      " [1.55186176e-02]\n",
      " [2.02531027e-02]\n",
      " [1.11536483e-04]\n",
      " [5.77165134e-04]]\n",
      "network says  4\n",
      "match!\n"
     ]
    },
    {
     "data": {
      "image/png": "[encoded data removed]",
      "text/plain": [
       "<Figure size 432x288 with 1 Axes>"
      ]
     },
     "metadata": {
      "needs_background": "light"
     },
     "output_type": "display_data"
    }
   ],
   "source": [
    "use_your_mnist_test('my_own_images/2828_my_own_4.png',4)"
   ]
  },
  {
   "cell_type": "code",
   "execution_count": 17,
   "id": "c15d9ba5",
   "metadata": {
    "ExecuteTime": {
     "end_time": "2022-09-13T15:15:00.841428Z",
     "start_time": "2022-09-13T15:15:00.699411Z"
    }
   },
   "outputs": [
    {
     "name": "stdout",
     "output_type": "stream",
     "text": [
      "[[5.72565085e-03]\n",
      " [7.87909500e-03]\n",
      " [1.46074868e-03]\n",
      " [3.64349376e-02]\n",
      " [2.61368155e-04]\n",
      " [8.56457394e-01]\n",
      " [1.31082153e-02]\n",
      " [9.44487940e-02]\n",
      " [5.31143410e-05]\n",
      " [5.78164892e-03]]\n",
      "network says  5\n",
      "match!\n"
     ]
    },
    {
     "data": {
      "image/png": "[encoded data removed]",
      "text/plain": [
       "<Figure size 432x288 with 1 Axes>"
      ]
     },
     "metadata": {
      "needs_background": "light"
     },
     "output_type": "display_data"
    }
   ],
   "source": [
    "use_your_mnist_test('my_own_images/2828_my_own_5.png',5)"
   ]
  },
  {
   "cell_type": "code",
   "execution_count": 18,
   "id": "a964bebd",
   "metadata": {
    "ExecuteTime": {
     "end_time": "2022-09-13T15:15:00.920428Z",
     "start_time": "2022-09-13T15:15:00.843408Z"
    }
   },
   "outputs": [
    {
     "name": "stdout",
     "output_type": "stream",
     "text": [
      "[[0.00231858]\n",
      " [0.03644677]\n",
      " [0.0006855 ]\n",
      " [0.01405344]\n",
      " [0.00143746]\n",
      " [0.09607929]\n",
      " [0.32717096]\n",
      " [0.0091019 ]\n",
      " [0.00197635]\n",
      " [0.01905625]]\n",
      "network says  6\n",
      "match!\n"
     ]
    },
    {
     "data": {
      "image/png": "[encoded data removed]",
      "text/plain": [
       "<Figure size 432x288 with 1 Axes>"
      ]
     },
     "metadata": {
      "needs_background": "light"
     },
     "output_type": "display_data"
    }
   ],
   "source": [
    "use_your_mnist_test('my_own_images/2828_my_own_6.png',6)"
   ]
  },
  {
   "cell_type": "code",
   "execution_count": 19,
   "id": "774bee8f",
   "metadata": {
    "ExecuteTime": {
     "end_time": "2022-09-13T15:15:01.000419Z",
     "start_time": "2022-09-13T15:15:00.922408Z"
    }
   },
   "outputs": [
    {
     "name": "stdout",
     "output_type": "stream",
     "text": [
      "[[0.00216111]\n",
      " [0.00326651]\n",
      " [0.01025501]\n",
      " [0.97339123]\n",
      " [0.00120012]\n",
      " [0.00358309]\n",
      " [0.00725179]\n",
      " [0.01289214]\n",
      " [0.00270949]\n",
      " [0.10386495]]\n",
      "network says  3\n",
      "match!\n"
     ]
    },
    {
     "data": {
      "image/png": "[encoded data removed]",
      "text/plain": [
       "<Figure size 432x288 with 1 Axes>"
      ]
     },
     "metadata": {
      "needs_background": "light"
     },
     "output_type": "display_data"
    }
   ],
   "source": [
    "use_your_mnist_test('my_own_images/2828_my_own_image.png',3)"
   ]
  },
  {
   "cell_type": "code",
   "execution_count": 20,
   "id": "0c3843ea",
   "metadata": {
    "ExecuteTime": {
     "end_time": "2022-09-13T15:15:01.079419Z",
     "start_time": "2022-09-13T15:15:01.002415Z"
    }
   },
   "outputs": [
    {
     "name": "stdout",
     "output_type": "stream",
     "text": [
      "[[0.10646704]\n",
      " [0.00900443]\n",
      " [0.18552729]\n",
      " [0.27502496]\n",
      " [0.00692015]\n",
      " [0.19734505]\n",
      " [0.02306064]\n",
      " [0.022212  ]\n",
      " [0.41099475]\n",
      " [0.10389184]]\n",
      "network says  8\n",
      "no match!\n"
     ]
    },
    {
     "data": {
      "image/png": "[encoded data removed]",
      "text/plain": [
       "<Figure size 432x288 with 1 Axes>"
      ]
     },
     "metadata": {
      "needs_background": "light"
     },
     "output_type": "display_data"
    }
   ],
   "source": [
    "use_your_mnist_test('my_own_images/2828_my_own_noisy_6.png',6)"
   ]
  },
  {
   "cell_type": "code",
   "execution_count": 21,
   "id": "fae66b84",
   "metadata": {
    "ExecuteTime": {
     "end_time": "2022-09-13T15:32:42.479143Z",
     "start_time": "2022-09-13T15:32:42.381153Z"
    }
   },
   "outputs": [
    {
     "name": "stdout",
     "output_type": "stream",
     "text": [
      "[[1.42951229e-03]\n",
      " [2.35168128e-03]\n",
      " [7.82355481e-03]\n",
      " [2.03051455e-03]\n",
      " [7.82089968e-04]\n",
      " [9.94797497e-01]\n",
      " [4.62052492e-04]\n",
      " [2.23114525e-04]\n",
      " [5.37888152e-02]\n",
      " [8.59691828e-02]]\n",
      "network says  5\n",
      "match!\n"
     ]
    },
    {
     "data": {
      "image/png": "[encoded data removed]",
      "text/plain": [
       "<Figure size 432x288 with 1 Axes>"
      ]
     },
     "metadata": {
      "needs_background": "light"
     },
     "output_type": "display_data"
    }
   ],
   "source": [
    "use_your_mnist_test('my_own_images/5.png',5)"
   ]
  },
  {
   "cell_type": "code",
   "execution_count": null,
   "id": "50562b5b",
   "metadata": {},
   "outputs": [],
   "source": []
  }
 ],
 "metadata": {
  "hide_input": false,
  "kernelspec": {
   "display_name": "Python 3 (ipykernel)",
   "language": "python",
   "name": "python3"
  },
  "language_info": {
   "codemirror_mode": {
    "name": "ipython",
    "version": 3
   },
   "file_extension": ".py",
   "mimetype": "text/x-python",
   "name": "python",
   "nbconvert_exporter": "python",
   "pygments_lexer": "ipython3",
   "version": "3.9.12"
  },
  "nbTranslate": {
   "displayLangs": [
    "*"
   ],
   "hotkey": "alt-t",
   "langInMainMenu": true,
   "sourceLang": "en",
   "targetLang": "fr",
   "useGoogleTranslate": true
  },
  "toc": {
   "base_numbering": 1,
   "nav_menu": {},
   "number_sections": true,
   "sideBar": true,
   "skip_h1_title": false,
   "title_cell": "Table of Contents",
   "title_sidebar": "Contents",
   "toc_cell": false,
   "toc_position": {},
   "toc_section_display": true,
   "toc_window_display": false
  },
  "varInspector": {
   "cols": {
    "lenName": 16,
    "lenType": 16,
    "lenVar": 40
   },
   "kernels_config": {
    "python": {
     "delete_cmd_postfix": "",
     "delete_cmd_prefix": "del ",
     "library": "var_list.py",
     "varRefreshCmd": "print(var_dic_list())"
    },
    "r": {
     "delete_cmd_postfix": ") ",
     "delete_cmd_prefix": "rm(",
     "library": "var_list.r",
     "varRefreshCmd": "cat(var_dic_list()) "
    }
   },
   "types_to_exclude": [
    "module",
    "function",
    "builtin_function_or_method",
    "instance",
    "_Feature"
   ],
   "window_display": false
  }
 },
 "nbformat": 4,
 "nbformat_minor": 5
}
